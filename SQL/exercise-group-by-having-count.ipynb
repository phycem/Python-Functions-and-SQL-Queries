{
 "cells": [
  {
   "cell_type": "markdown",
   "id": "c26b5c4b",
   "metadata": {
    "papermill": {
     "duration": 0.005502,
     "end_time": "2023-01-02T20:22:23.023437",
     "exception": false,
     "start_time": "2023-01-02T20:22:23.017935",
     "status": "completed"
    },
    "tags": []
   },
   "source": [
    "**This notebook is an exercise in the [SQL](https://www.kaggle.com/learn/intro-to-sql) course.  You can reference the tutorial at [this link](https://www.kaggle.com/dansbecker/group-by-having-count).**\n",
    "\n",
    "---\n"
   ]
  },
  {
   "cell_type": "markdown",
   "id": "963b48e5",
   "metadata": {
    "papermill": {
     "duration": 0.003879,
     "end_time": "2023-01-02T20:22:23.031820",
     "exception": false,
     "start_time": "2023-01-02T20:22:23.027941",
     "status": "completed"
    },
    "tags": []
   },
   "source": [
    "# Introduction\n",
    "\n",
    "Queries with **GROUP BY** can be powerful. There are many small things that can trip you up (like the order of the clauses), but it will start to feel natural once you've done it a few times. Here, you'll write queries using **GROUP BY** to answer questions from the Hacker News dataset.\n",
    "\n",
    "Before you get started, run the following cell to set everything up:"
   ]
  },
  {
   "cell_type": "code",
   "execution_count": 1,
   "id": "a1d2c8d7",
   "metadata": {
    "execution": {
     "iopub.execute_input": "2023-01-02T20:22:23.042584Z",
     "iopub.status.busy": "2023-01-02T20:22:23.042022Z",
     "iopub.status.idle": "2023-01-02T20:22:25.477322Z",
     "shell.execute_reply": "2023-01-02T20:22:25.475240Z"
    },
    "papermill": {
     "duration": 2.445331,
     "end_time": "2023-01-02T20:22:25.481439",
     "exception": false,
     "start_time": "2023-01-02T20:22:23.036108",
     "status": "completed"
    },
    "tags": []
   },
   "outputs": [
    {
     "name": "stdout",
     "output_type": "stream",
     "text": [
      "Using Kaggle's public dataset BigQuery integration.\n"
     ]
    },
    {
     "name": "stderr",
     "output_type": "stream",
     "text": [
      "/opt/conda/lib/python3.7/site-packages/google/cloud/bigquery/client.py:440: UserWarning: Cannot create BigQuery Storage client, the dependency google-cloud-bigquery-storage is not installed.\n",
      "  \"Cannot create BigQuery Storage client, the dependency \"\n"
     ]
    },
    {
     "name": "stdout",
     "output_type": "stream",
     "text": [
      "Setup Complete\n"
     ]
    }
   ],
   "source": [
    "# Set up feedback system\n",
    "from learntools.core import binder\n",
    "binder.bind(globals())\n",
    "from learntools.sql.ex3 import *\n",
    "print(\"Setup Complete\")"
   ]
  },
  {
   "cell_type": "markdown",
   "id": "1561647d",
   "metadata": {
    "papermill": {
     "duration": 0.004515,
     "end_time": "2023-01-02T20:22:25.491145",
     "exception": false,
     "start_time": "2023-01-02T20:22:25.486630",
     "status": "completed"
    },
    "tags": []
   },
   "source": [
    "The code cell below fetches the `comments` table from the `hacker_news` dataset.  We also preview the first five rows of the table."
   ]
  },
  {
   "cell_type": "code",
   "execution_count": 2,
   "id": "8fe1d84f",
   "metadata": {
    "execution": {
     "iopub.execute_input": "2023-01-02T20:22:25.504570Z",
     "iopub.status.busy": "2023-01-02T20:22:25.503721Z",
     "iopub.status.idle": "2023-01-02T20:22:26.672566Z",
     "shell.execute_reply": "2023-01-02T20:22:26.671212Z"
    },
    "papermill": {
     "duration": 1.178796,
     "end_time": "2023-01-02T20:22:26.675256",
     "exception": false,
     "start_time": "2023-01-02T20:22:25.496460",
     "status": "completed"
    },
    "tags": []
   },
   "outputs": [
    {
     "name": "stdout",
     "output_type": "stream",
     "text": [
      "Using Kaggle's public dataset BigQuery integration.\n"
     ]
    },
    {
     "name": "stderr",
     "output_type": "stream",
     "text": [
      "/opt/conda/lib/python3.7/site-packages/ipykernel_launcher.py:19: UserWarning: Cannot use bqstorage_client if max_results is set, reverting to fetching data with the tabledata.list endpoint.\n"
     ]
    },
    {
     "data": {
      "text/html": [
       "<div>\n",
       "<style scoped>\n",
       "    .dataframe tbody tr th:only-of-type {\n",
       "        vertical-align: middle;\n",
       "    }\n",
       "\n",
       "    .dataframe tbody tr th {\n",
       "        vertical-align: top;\n",
       "    }\n",
       "\n",
       "    .dataframe thead th {\n",
       "        text-align: right;\n",
       "    }\n",
       "</style>\n",
       "<table border=\"1\" class=\"dataframe\">\n",
       "  <thead>\n",
       "    <tr style=\"text-align: right;\">\n",
       "      <th></th>\n",
       "      <th>id</th>\n",
       "      <th>by</th>\n",
       "      <th>author</th>\n",
       "      <th>time</th>\n",
       "      <th>time_ts</th>\n",
       "      <th>text</th>\n",
       "      <th>parent</th>\n",
       "      <th>deleted</th>\n",
       "      <th>dead</th>\n",
       "      <th>ranking</th>\n",
       "    </tr>\n",
       "  </thead>\n",
       "  <tbody>\n",
       "    <tr>\n",
       "      <th>0</th>\n",
       "      <td>9734136</td>\n",
       "      <td>None</td>\n",
       "      <td>None</td>\n",
       "      <td>1434565400</td>\n",
       "      <td>2015-06-17 18:23:20+00:00</td>\n",
       "      <td>None</td>\n",
       "      <td>9733698</td>\n",
       "      <td>True</td>\n",
       "      <td>None</td>\n",
       "      <td>0</td>\n",
       "    </tr>\n",
       "    <tr>\n",
       "      <th>1</th>\n",
       "      <td>4921158</td>\n",
       "      <td>None</td>\n",
       "      <td>None</td>\n",
       "      <td>1355496966</td>\n",
       "      <td>2012-12-14 14:56:06+00:00</td>\n",
       "      <td>None</td>\n",
       "      <td>4921100</td>\n",
       "      <td>True</td>\n",
       "      <td>None</td>\n",
       "      <td>0</td>\n",
       "    </tr>\n",
       "    <tr>\n",
       "      <th>2</th>\n",
       "      <td>7500568</td>\n",
       "      <td>None</td>\n",
       "      <td>None</td>\n",
       "      <td>1396261158</td>\n",
       "      <td>2014-03-31 10:19:18+00:00</td>\n",
       "      <td>None</td>\n",
       "      <td>7499385</td>\n",
       "      <td>True</td>\n",
       "      <td>None</td>\n",
       "      <td>0</td>\n",
       "    </tr>\n",
       "    <tr>\n",
       "      <th>3</th>\n",
       "      <td>8909635</td>\n",
       "      <td>None</td>\n",
       "      <td>None</td>\n",
       "      <td>1421627275</td>\n",
       "      <td>2015-01-19 00:27:55+00:00</td>\n",
       "      <td>None</td>\n",
       "      <td>8901135</td>\n",
       "      <td>True</td>\n",
       "      <td>None</td>\n",
       "      <td>0</td>\n",
       "    </tr>\n",
       "    <tr>\n",
       "      <th>4</th>\n",
       "      <td>9256463</td>\n",
       "      <td>None</td>\n",
       "      <td>None</td>\n",
       "      <td>1427204705</td>\n",
       "      <td>2015-03-24 13:45:05+00:00</td>\n",
       "      <td>None</td>\n",
       "      <td>9256346</td>\n",
       "      <td>True</td>\n",
       "      <td>None</td>\n",
       "      <td>0</td>\n",
       "    </tr>\n",
       "  </tbody>\n",
       "</table>\n",
       "</div>"
      ],
      "text/plain": [
       "        id    by author        time                   time_ts  text   parent  \\\n",
       "0  9734136  None   None  1434565400 2015-06-17 18:23:20+00:00  None  9733698   \n",
       "1  4921158  None   None  1355496966 2012-12-14 14:56:06+00:00  None  4921100   \n",
       "2  7500568  None   None  1396261158 2014-03-31 10:19:18+00:00  None  7499385   \n",
       "3  8909635  None   None  1421627275 2015-01-19 00:27:55+00:00  None  8901135   \n",
       "4  9256463  None   None  1427204705 2015-03-24 13:45:05+00:00  None  9256346   \n",
       "\n",
       "   deleted  dead  ranking  \n",
       "0     True  None        0  \n",
       "1     True  None        0  \n",
       "2     True  None        0  \n",
       "3     True  None        0  \n",
       "4     True  None        0  "
      ]
     },
     "execution_count": 2,
     "metadata": {},
     "output_type": "execute_result"
    }
   ],
   "source": [
    "from google.cloud import bigquery\n",
    "\n",
    "# Create a \"Client\" object\n",
    "client = bigquery.Client()\n",
    "\n",
    "# Construct a reference to the \"hacker_news\" dataset\n",
    "dataset_ref = client.dataset(\"hacker_news\", project=\"bigquery-public-data\")\n",
    "\n",
    "# API request - fetch the dataset\n",
    "dataset = client.get_dataset(dataset_ref)\n",
    "\n",
    "# Construct a reference to the \"comments\" table\n",
    "table_ref = dataset_ref.table(\"comments\")\n",
    "\n",
    "# API request - fetch the table\n",
    "table = client.get_table(table_ref)\n",
    "\n",
    "# Preview the first five lines of the \"comments\" table\n",
    "client.list_rows(table, max_results=5).to_dataframe()"
   ]
  },
  {
   "cell_type": "markdown",
   "id": "4762ce31",
   "metadata": {
    "papermill": {
     "duration": 0.005152,
     "end_time": "2023-01-02T20:22:26.685686",
     "exception": false,
     "start_time": "2023-01-02T20:22:26.680534",
     "status": "completed"
    },
    "tags": []
   },
   "source": [
    "# Exercises\n",
    "\n",
    "### 1) Prolific commenters\n",
    "\n",
    "Hacker News would like to send awards to everyone who has written more than 10,000 posts. Write a query that returns all authors with more than 10,000 posts as well as their post counts. Call the column with post counts `NumPosts`.\n",
    "\n",
    "In case sample query is helpful, here is a query you saw in the tutorial to answer a similar question:\n",
    "```\n",
    "query = \"\"\"\n",
    "        SELECT parent, COUNT(1) AS NumPosts\n",
    "        FROM `bigquery-public-data.hacker_news.comments`\n",
    "        GROUP BY parent\n",
    "        HAVING COUNT(1) > 10\n",
    "        \"\"\"\n",
    "```"
   ]
  },
  {
   "cell_type": "code",
   "execution_count": 3,
   "id": "17158191",
   "metadata": {
    "execution": {
     "iopub.execute_input": "2023-01-02T20:22:26.698258Z",
     "iopub.status.busy": "2023-01-02T20:22:26.697763Z",
     "iopub.status.idle": "2023-01-02T20:22:27.865737Z",
     "shell.execute_reply": "2023-01-02T20:22:27.863951Z"
    },
    "papermill": {
     "duration": 1.17797,
     "end_time": "2023-01-02T20:22:27.868945",
     "exception": false,
     "start_time": "2023-01-02T20:22:26.690975",
     "status": "completed"
    },
    "tags": []
   },
   "outputs": [
    {
     "name": "stderr",
     "output_type": "stream",
     "text": [
      "/opt/conda/lib/python3.7/site-packages/google/cloud/bigquery/client.py:440: UserWarning: Cannot create BigQuery Storage client, the dependency google-cloud-bigquery-storage is not installed.\n",
      "  \"Cannot create BigQuery Storage client, the dependency \"\n"
     ]
    },
    {
     "name": "stdout",
     "output_type": "stream",
     "text": [
      "         author  NumPosts\n",
      "0  dragonwriter     10723\n",
      "1          None    227736\n",
      "2         DanBC     12902\n",
      "3         sp332     10882\n",
      "4        davidw     10764\n"
     ]
    },
    {
     "data": {
      "application/javascript": [
       "parent.postMessage({\"jupyterEvent\": \"custom.exercise_interaction\", \"data\": {\"outcomeType\": 1, \"valueTowardsCompletion\": 0.5, \"interactionType\": 1, \"questionType\": 2, \"questionId\": \"1_ProlificCommenters\", \"learnToolsVersion\": \"0.3.4\", \"failureMessage\": \"\", \"exceptionClass\": \"\", \"trace\": \"\"}}, \"*\")"
      ],
      "text/plain": [
       "<IPython.core.display.Javascript object>"
      ]
     },
     "metadata": {},
     "output_type": "display_data"
    },
    {
     "data": {
      "text/markdown": [
       "<span style=\"color:#33cc33\">Correct</span>"
      ],
      "text/plain": [
       "Correct"
      ]
     },
     "metadata": {},
     "output_type": "display_data"
    }
   ],
   "source": [
    "# Query to select prolific commenters and post counts\n",
    "prolific_commenters_query = \"\"\"\n",
    "                            SELECT author, COUNT(id) AS NumPosts\n",
    "                            FROM `bigquery-public-data.hacker_news.comments`\n",
    "                            GROUP BY author\n",
    "                            HAVING COUNT(id) > 10000\n",
    "                            \"\"\" # Your code goes here\n",
    "\n",
    "# Set up the query (cancel the query if it would use too much of \n",
    "# your quota, with the limit set to 1 GB)\n",
    "safe_config = bigquery.QueryJobConfig(maximum_bytes_billed=10**10)\n",
    "query_job = client.query(prolific_commenters_query, job_config=safe_config)\n",
    "\n",
    "# API request - run the query, and return a pandas DataFrame\n",
    "prolific_commenters = query_job.to_dataframe()\n",
    "\n",
    "# View top few rows of results\n",
    "print(prolific_commenters.head())\n",
    "\n",
    "# Check your answer\n",
    "q_1.check()"
   ]
  },
  {
   "cell_type": "markdown",
   "id": "40aaba00",
   "metadata": {
    "papermill": {
     "duration": 0.004943,
     "end_time": "2023-01-02T20:22:27.879279",
     "exception": false,
     "start_time": "2023-01-02T20:22:27.874336",
     "status": "completed"
    },
    "tags": []
   },
   "source": [
    "For the solution, uncomment the line below."
   ]
  },
  {
   "cell_type": "code",
   "execution_count": 4,
   "id": "c6ac3aa8",
   "metadata": {
    "execution": {
     "iopub.execute_input": "2023-01-02T20:22:27.892596Z",
     "iopub.status.busy": "2023-01-02T20:22:27.892078Z",
     "iopub.status.idle": "2023-01-02T20:22:27.905540Z",
     "shell.execute_reply": "2023-01-02T20:22:27.903730Z"
    },
    "papermill": {
     "duration": 0.023891,
     "end_time": "2023-01-02T20:22:27.908711",
     "exception": false,
     "start_time": "2023-01-02T20:22:27.884820",
     "status": "completed"
    },
    "tags": []
   },
   "outputs": [
    {
     "data": {
      "application/javascript": [
       "parent.postMessage({\"jupyterEvent\": \"custom.exercise_interaction\", \"data\": {\"interactionType\": 3, \"questionType\": 2, \"questionId\": \"1_ProlificCommenters\", \"learnToolsVersion\": \"0.3.4\", \"valueTowardsCompletion\": 0.0, \"failureMessage\": \"\", \"exceptionClass\": \"\", \"trace\": \"\", \"outcomeType\": 4}}, \"*\")"
      ],
      "text/plain": [
       "<IPython.core.display.Javascript object>"
      ]
     },
     "metadata": {},
     "output_type": "display_data"
    },
    {
     "data": {
      "text/markdown": [
       "<span style=\"color:#33cc99\">Solution:</span> \n",
       "```python\n",
       "\n",
       "prolific_commenters_query = \"\"\"\n",
       "                            SELECT author, COUNT(1) AS NumPosts\n",
       "                            FROM `bigquery-public-data.hacker_news.comments`\n",
       "                            GROUP BY author\n",
       "                            HAVING COUNT(1) > 10000\n",
       "                            \"\"\"\n",
       "\n",
       "```"
      ],
      "text/plain": [
       "Solution: \n",
       "```python\n",
       "\n",
       "prolific_commenters_query = \"\"\"\n",
       "                            SELECT author, COUNT(1) AS NumPosts\n",
       "                            FROM `bigquery-public-data.hacker_news.comments`\n",
       "                            GROUP BY author\n",
       "                            HAVING COUNT(1) > 10000\n",
       "                            \"\"\"\n",
       "\n",
       "```"
      ]
     },
     "metadata": {},
     "output_type": "display_data"
    }
   ],
   "source": [
    "q_1.solution()"
   ]
  },
  {
   "cell_type": "markdown",
   "id": "d8e73889",
   "metadata": {
    "papermill": {
     "duration": 0.005861,
     "end_time": "2023-01-02T20:22:27.920895",
     "exception": false,
     "start_time": "2023-01-02T20:22:27.915034",
     "status": "completed"
    },
    "tags": []
   },
   "source": [
    "### 2) Deleted comments\n",
    "\n",
    "How many comments have been deleted? (If a comment was deleted, the `deleted` column in the comments table will have the value `True`.)"
   ]
  },
  {
   "cell_type": "code",
   "execution_count": 5,
   "id": "0e94d39c",
   "metadata": {
    "execution": {
     "iopub.execute_input": "2023-01-02T20:22:27.935717Z",
     "iopub.status.busy": "2023-01-02T20:22:27.935263Z",
     "iopub.status.idle": "2023-01-02T20:22:29.021979Z",
     "shell.execute_reply": "2023-01-02T20:22:29.020590Z"
    },
    "papermill": {
     "duration": 1.09749,
     "end_time": "2023-01-02T20:22:29.024915",
     "exception": false,
     "start_time": "2023-01-02T20:22:27.927425",
     "status": "completed"
    },
    "tags": []
   },
   "outputs": [
    {
     "name": "stderr",
     "output_type": "stream",
     "text": [
      "/opt/conda/lib/python3.7/site-packages/google/cloud/bigquery/client.py:440: UserWarning: Cannot create BigQuery Storage client, the dependency google-cloud-bigquery-storage is not installed.\n",
      "  \"Cannot create BigQuery Storage client, the dependency \"\n"
     ]
    },
    {
     "data": {
      "text/html": [
       "<div>\n",
       "<style scoped>\n",
       "    .dataframe tbody tr th:only-of-type {\n",
       "        vertical-align: middle;\n",
       "    }\n",
       "\n",
       "    .dataframe tbody tr th {\n",
       "        vertical-align: top;\n",
       "    }\n",
       "\n",
       "    .dataframe thead th {\n",
       "        text-align: right;\n",
       "    }\n",
       "</style>\n",
       "<table border=\"1\" class=\"dataframe\">\n",
       "  <thead>\n",
       "    <tr style=\"text-align: right;\">\n",
       "      <th></th>\n",
       "      <th>num_deleted_posts</th>\n",
       "    </tr>\n",
       "  </thead>\n",
       "  <tbody>\n",
       "    <tr>\n",
       "      <th>0</th>\n",
       "      <td>227736</td>\n",
       "    </tr>\n",
       "  </tbody>\n",
       "</table>\n",
       "</div>"
      ],
      "text/plain": [
       "   num_deleted_posts\n",
       "0             227736"
      ]
     },
     "execution_count": 5,
     "metadata": {},
     "output_type": "execute_result"
    }
   ],
   "source": [
    "# Write your query here and figure out the answer\n",
    "query_deleted = \"\"\"\n",
    "                SELECT COUNT(deleted) as num_deleted_posts\n",
    "                FROM `bigquery-public-data.hacker_news.comments`\n",
    "                WHERE deleted = True\n",
    "                \"\"\"\n",
    "\n",
    "safe_config = bigquery.QueryJobConfig(maximum_bytes_billed=10**10)\n",
    "query_job = client.query(query_deleted, job_config=safe_config)\n",
    "\n",
    "# API request - run the query, and convert the results to a pandas DataFrame\n",
    "deleted_comments = query_job.to_dataframe()\n",
    "\n",
    "# Print the first five rows of the DataFrame\n",
    "deleted_comments.head()\n",
    "\n"
   ]
  },
  {
   "cell_type": "code",
   "execution_count": 6,
   "id": "cdd243ce",
   "metadata": {
    "execution": {
     "iopub.execute_input": "2023-01-02T20:22:29.040654Z",
     "iopub.status.busy": "2023-01-02T20:22:29.040119Z",
     "iopub.status.idle": "2023-01-02T20:22:29.050092Z",
     "shell.execute_reply": "2023-01-02T20:22:29.048887Z"
    },
    "papermill": {
     "duration": 0.020974,
     "end_time": "2023-01-02T20:22:29.052445",
     "exception": false,
     "start_time": "2023-01-02T20:22:29.031471",
     "status": "completed"
    },
    "tags": []
   },
   "outputs": [
    {
     "data": {
      "application/javascript": [
       "parent.postMessage({\"jupyterEvent\": \"custom.exercise_interaction\", \"data\": {\"outcomeType\": 1, \"valueTowardsCompletion\": 0.5, \"interactionType\": 1, \"questionType\": 1, \"questionId\": \"2_NumDeletedPosts\", \"learnToolsVersion\": \"0.3.4\", \"failureMessage\": \"\", \"exceptionClass\": \"\", \"trace\": \"\"}}, \"*\")"
      ],
      "text/plain": [
       "<IPython.core.display.Javascript object>"
      ]
     },
     "metadata": {},
     "output_type": "display_data"
    },
    {
     "data": {
      "text/markdown": [
       "<span style=\"color:#33cc33\">Correct</span>"
      ],
      "text/plain": [
       "Correct"
      ]
     },
     "metadata": {},
     "output_type": "display_data"
    }
   ],
   "source": [
    "num_deleted_posts = 227736 # Put your answer here\n",
    "\n",
    "# Check your answer\n",
    "q_2.check()"
   ]
  },
  {
   "cell_type": "markdown",
   "id": "2d17d998",
   "metadata": {
    "papermill": {
     "duration": 0.006378,
     "end_time": "2023-01-02T20:22:29.064971",
     "exception": false,
     "start_time": "2023-01-02T20:22:29.058593",
     "status": "completed"
    },
    "tags": []
   },
   "source": [
    "For the solution, uncomment the line below."
   ]
  },
  {
   "cell_type": "code",
   "execution_count": 7,
   "id": "6e0cec8e",
   "metadata": {
    "execution": {
     "iopub.execute_input": "2023-01-02T20:22:29.080010Z",
     "iopub.status.busy": "2023-01-02T20:22:29.079250Z",
     "iopub.status.idle": "2023-01-02T20:22:29.087249Z",
     "shell.execute_reply": "2023-01-02T20:22:29.086348Z"
    },
    "papermill": {
     "duration": 0.01853,
     "end_time": "2023-01-02T20:22:29.089565",
     "exception": false,
     "start_time": "2023-01-02T20:22:29.071035",
     "status": "completed"
    },
    "tags": []
   },
   "outputs": [
    {
     "data": {
      "application/javascript": [
       "parent.postMessage({\"jupyterEvent\": \"custom.exercise_interaction\", \"data\": {\"interactionType\": 3, \"questionType\": 1, \"questionId\": \"2_NumDeletedPosts\", \"learnToolsVersion\": \"0.3.4\", \"valueTowardsCompletion\": 0.0, \"failureMessage\": \"\", \"exceptionClass\": \"\", \"trace\": \"\", \"outcomeType\": 4}}, \"*\")"
      ],
      "text/plain": [
       "<IPython.core.display.Javascript object>"
      ]
     },
     "metadata": {},
     "output_type": "display_data"
    },
    {
     "data": {
      "text/markdown": [
       "<span style=\"color:#33cc99\">Solution:</span> \n",
       "```python\n",
       "\n",
       "# Query to determine how many posts were deleted\n",
       "deleted_posts_query = \"\"\"\n",
       "                      SELECT COUNT(1) AS num_deleted_posts\n",
       "                      FROM `bigquery-public-data.hacker_news.comments`\n",
       "                      WHERE deleted = True\n",
       "                      \"\"\"\n",
       "                      \n",
       "# Set up the query\n",
       "query_job = client.query(deleted_posts_query)\n",
       "\n",
       "# API request - run the query, and return a pandas DataFrame\n",
       "deleted_posts = query_job.to_dataframe()\n",
       "\n",
       "# View results\n",
       "print(deleted_posts)\n",
       "\n",
       "num_deleted_posts = 227736\n",
       "\n",
       "```"
      ],
      "text/plain": [
       "Solution: \n",
       "```python\n",
       "\n",
       "# Query to determine how many posts were deleted\n",
       "deleted_posts_query = \"\"\"\n",
       "                      SELECT COUNT(1) AS num_deleted_posts\n",
       "                      FROM `bigquery-public-data.hacker_news.comments`\n",
       "                      WHERE deleted = True\n",
       "                      \"\"\"\n",
       "                      \n",
       "# Set up the query\n",
       "query_job = client.query(deleted_posts_query)\n",
       "\n",
       "# API request - run the query, and return a pandas DataFrame\n",
       "deleted_posts = query_job.to_dataframe()\n",
       "\n",
       "# View results\n",
       "print(deleted_posts)\n",
       "\n",
       "num_deleted_posts = 227736\n",
       "\n",
       "```"
      ]
     },
     "metadata": {},
     "output_type": "display_data"
    }
   ],
   "source": [
    "q_2.solution()"
   ]
  },
  {
   "cell_type": "markdown",
   "id": "f9320323",
   "metadata": {
    "papermill": {
     "duration": 0.005906,
     "end_time": "2023-01-02T20:22:29.103607",
     "exception": false,
     "start_time": "2023-01-02T20:22:29.097701",
     "status": "completed"
    },
    "tags": []
   },
   "source": [
    "# Keep Going\n",
    "**[Click here](https://www.kaggle.com/dansbecker/order-by)** to move on and learn about the **ORDER BY** clause."
   ]
  },
  {
   "cell_type": "markdown",
   "id": "88bb6256",
   "metadata": {
    "papermill": {
     "duration": 0.005971,
     "end_time": "2023-01-02T20:22:29.116614",
     "exception": false,
     "start_time": "2023-01-02T20:22:29.110643",
     "status": "completed"
    },
    "tags": []
   },
   "source": [
    "---\n",
    "\n",
    "\n",
    "\n",
    "\n",
    "*Have questions or comments? Visit the [course discussion forum](https://www.kaggle.com/learn/intro-to-sql/discussion) to chat with other learners.*"
   ]
  }
 ],
 "metadata": {
  "kernelspec": {
   "display_name": "Python 3",
   "language": "python",
   "name": "python3"
  },
  "language_info": {
   "codemirror_mode": {
    "name": "ipython",
    "version": 3
   },
   "file_extension": ".py",
   "mimetype": "text/x-python",
   "name": "python",
   "nbconvert_exporter": "python",
   "pygments_lexer": "ipython3",
   "version": "3.7.12"
  },
  "papermill": {
   "default_parameters": {},
   "duration": 18.382452,
   "end_time": "2023-01-02T20:22:30.152087",
   "environment_variables": {},
   "exception": null,
   "input_path": "__notebook__.ipynb",
   "output_path": "__notebook__.ipynb",
   "parameters": {},
   "start_time": "2023-01-02T20:22:11.769635",
   "version": "2.3.4"
  }
 },
 "nbformat": 4,
 "nbformat_minor": 5
}
