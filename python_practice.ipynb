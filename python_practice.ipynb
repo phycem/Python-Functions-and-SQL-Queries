{
  "nbformat": 4,
  "nbformat_minor": 0,
  "metadata": {
    "colab": {
      "provenance": [],
      "authorship_tag": "ABX9TyN2vepQERQnemKeuxEUJk08",
      "include_colab_link": true
    },
    "kernelspec": {
      "name": "python3",
      "display_name": "Python 3"
    },
    "language_info": {
      "name": "python"
    }
  },
  "cells": [
    {
      "cell_type": "markdown",
      "metadata": {
        "id": "view-in-github",
        "colab_type": "text"
      },
      "source": [
        "<a href=\"https://colab.research.google.com/github/phycem/SQL-and-Python-Best-Practices/blob/main/python_practice.ipynb\" target=\"_parent\"><img src=\"https://colab.research.google.com/assets/colab-badge.svg\" alt=\"Open In Colab\"/></a>"
      ]
    },
    {
      "cell_type": "code",
      "execution_count": null,
      "metadata": {
        "id": "qCxBx6Hks2N2",
        "colab": {
          "base_uri": "https://localhost:8080/"
        },
        "outputId": "f8a60b29-4575-4db8-c58a-e656065829f4"
      },
      "outputs": [
        {
          "output_type": "stream",
          "name": "stdout",
          "text": [
            "1\n",
            "2\n",
            "Fizz\n",
            "4\n",
            "Buzz\n",
            "Fizz\n",
            "7\n",
            "8\n",
            "Fizz\n",
            "Buzz\n",
            "11\n",
            "Fizz\n",
            "13\n",
            "14\n",
            "Fizz Buzz\n",
            "16\n",
            "17\n",
            "Fizz\n",
            "19\n",
            "Buzz\n",
            "Fizz\n",
            "22\n",
            "23\n",
            "Fizz\n",
            "Buzz\n",
            "26\n",
            "Fizz\n",
            "28\n",
            "29\n",
            "Fizz Buzz\n",
            "31\n",
            "32\n",
            "Fizz\n",
            "34\n",
            "Buzz\n",
            "Fizz\n",
            "37\n",
            "38\n",
            "Fizz\n",
            "Buzz\n",
            "41\n",
            "Fizz\n",
            "43\n",
            "44\n",
            "Fizz Buzz\n",
            "46\n",
            "47\n",
            "Fizz\n",
            "49\n",
            "Buzz\n",
            "Fizz\n",
            "52\n",
            "53\n",
            "Fizz\n",
            "Buzz\n",
            "56\n",
            "Fizz\n",
            "58\n",
            "59\n",
            "Fizz Buzz\n",
            "61\n",
            "62\n",
            "Fizz\n",
            "64\n",
            "Buzz\n",
            "Fizz\n",
            "67\n",
            "68\n",
            "Fizz\n",
            "Buzz\n",
            "71\n",
            "Fizz\n",
            "73\n",
            "74\n",
            "Fizz Buzz\n",
            "76\n",
            "77\n",
            "Fizz\n",
            "79\n",
            "Buzz\n",
            "Fizz\n",
            "82\n",
            "83\n",
            "Fizz\n",
            "Buzz\n",
            "86\n",
            "Fizz\n",
            "88\n",
            "89\n",
            "Fizz Buzz\n",
            "91\n",
            "92\n",
            "Fizz\n",
            "94\n",
            "Buzz\n",
            "Fizz\n",
            "97\n",
            "98\n",
            "Fizz\n",
            "Buzz\n"
          ]
        }
      ],
      "source": [
        "for i in range(1,101):\n",
        "    if i % 3 == 0 and i % 5 == 0:\n",
        "       print(\"Fizz Buzz\")\n",
        "    elif i % 3 == 0:\n",
        "        print(\"Fizz\")\n",
        "    elif i % 5 == 0:\n",
        "        print(\"Buzz\")\n",
        "    else:\n",
        "        print(i)\n"
      ]
    },
    {
      "cell_type": "code",
      "source": [
        "import math\n",
        "math.factorial(1000)\n",
        "\n",
        "\n",
        "def factorial(n: int):\n",
        "    if n == 0 or n == 1:\n",
        "        return 1\n",
        "    else:\n",
        "        return n * factorial(n - 1)\n",
        "\n",
        "factorial(4)"
      ],
      "metadata": {
        "colab": {
          "base_uri": "https://localhost:8080/"
        },
        "id": "ENVa1x4qb9tF",
        "outputId": "9970bc7d-7ffe-49ae-b72d-9f9fb7fcc52a"
      },
      "execution_count": null,
      "outputs": [
        {
          "output_type": "execute_result",
          "data": {
            "text/plain": [
              "24"
            ]
          },
          "metadata": {},
          "execution_count": 9
        }
      ]
    },
    {
      "cell_type": "code",
      "source": [
        "def fuctorial(n):\n",
        "  result =1\n",
        "  for i in range(2,n+1):\n",
        "    result *=i\n",
        "  return result\n",
        "\n",
        "fuctorial(5)\n",
        "\n"
      ],
      "metadata": {
        "colab": {
          "base_uri": "https://localhost:8080/"
        },
        "id": "vZvaKWwEaj6n",
        "outputId": "7bd65ced-6fa9-4df2-fc16-77f77591149f"
      },
      "execution_count": null,
      "outputs": [
        {
          "output_type": "execute_result",
          "data": {
            "text/plain": [
              "120"
            ]
          },
          "metadata": {},
          "execution_count": 8
        }
      ]
    },
    {
      "cell_type": "code",
      "source": [
        "sum([4,6,8,4])"
      ],
      "metadata": {
        "colab": {
          "base_uri": "https://localhost:8080/"
        },
        "id": "2EIjhRkU7Bnx",
        "outputId": "72fac12e-d257-4287-e284-4b29e6831cd1"
      },
      "execution_count": null,
      "outputs": [
        {
          "output_type": "execute_result",
          "data": {
            "text/plain": [
              "22"
            ]
          },
          "metadata": {},
          "execution_count": 2
        }
      ]
    },
    {
      "cell_type": "code",
      "source": [
        "def mean(numbers):\n",
        "  if len(numbers) > 0:\n",
        "    return sum(numbers) / len(numbers)\n",
        "  return(float('NaN'))\n",
        "\n",
        "mean([])"
      ],
      "metadata": {
        "id": "MBKK7v_ob5rC",
        "colab": {
          "base_uri": "https://localhost:8080/"
        },
        "outputId": "3f9d6bfd-5c4d-48a0-bfe3-9b3bc880cc92"
      },
      "execution_count": null,
      "outputs": [
        {
          "output_type": "execute_result",
          "data": {
            "text/plain": [
              "nan"
            ]
          },
          "metadata": {},
          "execution_count": 6
        }
      ]
    },
    {
      "cell_type": "code",
      "source": [
        "from os import device_encoding\n",
        "from math import sqrt\n",
        "from statistics import mean\n",
        "def std_dev(numbers):\n",
        "    if len(numbers)>0:\n",
        "      avg = mean(numbers)\n",
        "      var = sum((i - avg)**2 for i in numbers) / (len(numbers)-1)\n",
        "      dev = sqrt(var)\n",
        "      return dev \n",
        "    return float('NaN')\n",
        "\n",
        "print(std_dev([1,6,4,9]))\n",
        "print(std_dev([]))"
      ],
      "metadata": {
        "colab": {
          "base_uri": "https://localhost:8080/"
        },
        "id": "nvD6BE2a66pW",
        "outputId": "d43c8374-5066-4af2-db98-4d845eb2e875"
      },
      "execution_count": null,
      "outputs": [
        {
          "output_type": "stream",
          "name": "stdout",
          "text": [
            "3.366501646120693\n",
            "nan\n"
          ]
        }
      ]
    },
    {
      "cell_type": "markdown",
      "source": [
        "5) RMSE. Calculate the RMSE (root mean squared error) of a model. The function takes in two lists: one with actual values, one with predictions.\n",
        "\n",
        "rmse([1, 2], [1, 2]) = 0\n",
        "rmse([1, 2, 3], [3, 2, 1]) = 1.63\n",
        "\n",
        "![image.png](data:image/png;base64,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)"
      ],
      "metadata": {
        "id": "woF7I71k7YZU"
      }
    },
    {
      "cell_type": "code",
      "source": [
        "import math\n",
        "def rmse(y_true,y_pred):\n",
        "    assert len(y_true)==len(y_pred)\n",
        "    square = sum((x-y)**2 for x,y in zip(y_true,y_pred))\n",
        "    return math.sqrt(square/ len(y_true))\n",
        "\n",
        "print(rmse([1,2],[1,2]))\n",
        "\n",
        "print(rmse([1,2,3],[3,2,1]))\n"
      ],
      "metadata": {
        "colab": {
          "base_uri": "https://localhost:8080/"
        },
        "id": "jvykXfkr86cK",
        "outputId": "df233966-f0cc-437c-e6bb-8f71ab918c9a"
      },
      "execution_count": null,
      "outputs": [
        {
          "output_type": "stream",
          "name": "stdout",
          "text": [
            "0.0\n",
            "1.632993161855452\n"
          ]
        }
      ]
    },
    {
      "cell_type": "markdown",
      "source": [
        "6) Remove duplicates. Remove duplicates in list. The list is not sorted and the order of elements from the original list should be preserved.\n",
        "\n",
        "[1, 2, 3, 1] ⇒ [1, 2, 3]\n",
        "[1, 3, 2, 1, 5, 3, 5, 1, 4] ⇒ [1, 3, 2, 5, 4]"
      ],
      "metadata": {
        "id": "C9XXBaPlVALn"
      }
    },
    {
      "cell_type": "code",
      "source": [
        "def remove_duplicates(numbers):\n",
        "    duplicates_removed = []\n",
        "    mentioned_values =set()\n",
        "    for i in numbers:\n",
        "        if i not in mentioned_values:\n",
        "           mentioned_values.add(i)\n",
        "           duplicates_removed.append(i)\n",
        "    return duplicates_removed\n",
        "\n",
        "print(remove_duplicates([1,2,6,8,90,43,43,57,4,3,4,5,56,3,2,4]))\n",
        "\n",
        "def remove_duplicates2(numbers):\n",
        "    duplicates_removed2 =[]\n",
        "    for i in numbers:\n",
        "        if i not in duplicates_removed2:\n",
        "           duplicates_removed2.append(i)\n",
        "    return duplicates_removed2\n",
        "\n",
        "print(remove_duplicates2([1,2,6,8,90,43,43,57,4,3,4,5,56,3,2,4]))\n",
        "\n",
        "           "
      ],
      "metadata": {
        "colab": {
          "base_uri": "https://localhost:8080/"
        },
        "id": "qcGpTlvS8bV6",
        "outputId": "b24b55ad-8af2-4e35-f8b5-85b06964488f"
      },
      "execution_count": null,
      "outputs": [
        {
          "output_type": "stream",
          "name": "stdout",
          "text": [
            "[1, 2, 6, 8, 90, 43, 57, 4, 3, 5, 56]\n",
            "[1, 2, 6, 8, 90, 43, 57, 4, 3, 5, 56]\n"
          ]
        }
      ]
    },
    {
      "cell_type": "code",
      "source": [
        "numbers = [1, 3, 2, 1, 5, 3, 5, 1, 4]\n",
        "\n",
        "\n",
        "def counting(n):\n",
        "    counter = dict()\n",
        "    for i in n:\n",
        "        counter[i]= counter.get(i,0) +1\n",
        "    return counter\n",
        "\n",
        "counting(numbers)\n"
      ],
      "metadata": {
        "colab": {
          "base_uri": "https://localhost:8080/"
        },
        "id": "PnmHUcbukBN8",
        "outputId": "740dcedb-e7fe-4a96-c31e-ccf851a2b6b8"
      },
      "execution_count": null,
      "outputs": [
        {
          "output_type": "execute_result",
          "data": {
            "text/plain": [
              "{1: 3, 3: 2, 2: 1, 5: 2, 4: 1}"
            ]
          },
          "metadata": {},
          "execution_count": 12
        }
      ]
    },
    {
      "cell_type": "code",
      "source": [
        "from collections import Counter \n",
        "\n",
        "numbers = [1, 3, 2, 1, 5, 3, 5, 1, 4]\n",
        "\n",
        "counter = Counter(numbers)\n",
        "counter"
      ],
      "metadata": {
        "colab": {
          "base_uri": "https://localhost:8080/"
        },
        "id": "c2ohSD-XSUbQ",
        "outputId": "6c3d79ce-42b7-48d4-86c5-5597eced90dc"
      },
      "execution_count": null,
      "outputs": [
        {
          "output_type": "execute_result",
          "data": {
            "text/plain": [
              "Counter({1: 3, 3: 2, 2: 1, 5: 2, 4: 1})"
            ]
          },
          "metadata": {},
          "execution_count": 2
        }
      ]
    },
    {
      "cell_type": "code",
      "source": [
        "def polindrom(s):\n",
        "    a=s[::-1]\n",
        "    if a == s:\n",
        "      return \"polindrom\"\n",
        "    else:\n",
        "      return False\n",
        "\n",
        "polindrom('car')"
      ],
      "metadata": {
        "colab": {
          "base_uri": "https://localhost:8080/"
        },
        "id": "1tpBHk8BSg7Y",
        "outputId": "4e45f7e8-1fc8-4507-a0ef-4ca0ce8f2ad2"
      },
      "execution_count": null,
      "outputs": [
        {
          "output_type": "execute_result",
          "data": {
            "text/plain": [
              "False"
            ]
          },
          "metadata": {},
          "execution_count": 5
        }
      ]
    },
    {
      "cell_type": "code",
      "source": [
        "def is_palindrome(s):\n",
        "    return s == s[::-1]\n",
        "\n",
        "is_palindrome('racecar')"
      ],
      "metadata": {
        "colab": {
          "base_uri": "https://localhost:8080/"
        },
        "id": "Gj-LP1DqUrRA",
        "outputId": "32871d18-6f21-41b5-9aa7-d4e4b58761eb"
      },
      "execution_count": null,
      "outputs": [
        {
          "output_type": "execute_result",
          "data": {
            "text/plain": [
              "True"
            ]
          },
          "metadata": {},
          "execution_count": 7
        }
      ]
    },
    {
      "cell_type": "code",
      "source": [
        "def is_palindrome_verbose(s):\n",
        "    for i in range(len(s)//2):\n",
        "        if s[i] != s[-i -1]:\n",
        "            return False\n",
        "    return True\n",
        "\n",
        "is_palindrome_verbose('racecar')\n"
      ],
      "metadata": {
        "colab": {
          "base_uri": "https://localhost:8080/"
        },
        "id": "o0KnuIdXVD2Z",
        "outputId": "50abb678-dedf-4f81-98f7-be6d57511307"
      },
      "execution_count": null,
      "outputs": [
        {
          "output_type": "execute_result",
          "data": {
            "text/plain": [
              "True"
            ]
          },
          "metadata": {},
          "execution_count": 13
        }
      ]
    },
    {
      "cell_type": "markdown",
      "source": [
        "12) Jaccard. Calculate the Jaccard similarity between two sets: the size of intersection divided by the size of union.\n",
        "\n",
        "jaccard({'a', 'b', 'c'}, {'a', 'd'}) = 1 / 4\n",
        "\n",
        "![image.png](data:image/png;base64,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)"
      ],
      "metadata": {
        "id": "_YbVUNS1rTMT"
      }
    },
    {
      "cell_type": "code",
      "source": [
        "def intersection_of_sets(a,b):\n",
        "    return a & b\n",
        "\n",
        "intersection_of_sets({'a', 'b', 'c'}, {'a', 'd'})"
      ],
      "metadata": {
        "colab": {
          "base_uri": "https://localhost:8080/"
        },
        "id": "wT8bnyLAwFyL",
        "outputId": "7e324e98-b3e3-4c8e-88bb-ea7c726e11e4"
      },
      "execution_count": null,
      "outputs": [
        {
          "output_type": "execute_result",
          "data": {
            "text/plain": [
              "{'a'}"
            ]
          },
          "metadata": {},
          "execution_count": 20
        }
      ]
    },
    {
      "cell_type": "code",
      "source": [
        "def intersection_of_sets(a,b):\n",
        "    c = []\n",
        "    for i in a:\n",
        "        if i in b:\n",
        "           c.append(i)\n",
        "    return c\n",
        "intersection_of_sets({'a', 'b', 'c'}, {'a', 'd'})\n",
        "           "
      ],
      "metadata": {
        "colab": {
          "base_uri": "https://localhost:8080/"
        },
        "id": "1lMwI_QOva_j",
        "outputId": "73754310-b661-4235-b315-f4b1d54aca40"
      },
      "execution_count": null,
      "outputs": [
        {
          "output_type": "execute_result",
          "data": {
            "text/plain": [
              "['a']"
            ]
          },
          "metadata": {},
          "execution_count": 19
        }
      ]
    },
    {
      "cell_type": "code",
      "source": [
        "def intersection_of_sets(a,b):\n",
        "    c = []\n",
        "    for i in a:\n",
        "        for j in b:\n",
        "            if i==j:\n",
        "               c.append(i)\n",
        "    return c\n",
        "intersection_of_sets({'a', 'b', 'c'}, {'a', 'd'})"
      ],
      "metadata": {
        "colab": {
          "base_uri": "https://localhost:8080/"
        },
        "id": "UvqvKvJMuP0n",
        "outputId": "0df4c90d-7df8-4ce8-d28b-c776e7720c39"
      },
      "execution_count": null,
      "outputs": [
        {
          "output_type": "execute_result",
          "data": {
            "text/plain": [
              "['a']"
            ]
          },
          "metadata": {},
          "execution_count": 18
        }
      ]
    },
    {
      "cell_type": "code",
      "source": [
        "def union_of_sets(a,b):\n",
        "    return a | b\n",
        "\n",
        "union_of_sets({'a', 'b', 'c'}, {'a', 'd'})\n"
      ],
      "metadata": {
        "colab": {
          "base_uri": "https://localhost:8080/"
        },
        "id": "BRmpz3xowr35",
        "outputId": "d074bc54-29a6-4d45-fb8b-6dd1bf80d84a"
      },
      "execution_count": null,
      "outputs": [
        {
          "output_type": "execute_result",
          "data": {
            "text/plain": [
              "{'a', 'b', 'c', 'd'}"
            ]
          },
          "metadata": {},
          "execution_count": 23
        }
      ]
    },
    {
      "cell_type": "code",
      "source": [
        "def intersection_of_sets(a,b):\n",
        "    return a & b\n",
        "def union_of_sets(a,b):\n",
        "    return a | b\n",
        "\n",
        "def jaccard(a,b):\n",
        "    intersection = intersection_of_sets(a,b)\n",
        "    union = union_of_sets(a,b) \n",
        "    return len(intersection)/len(union)\n",
        "\n",
        "jaccard({'a', 'b', 'c'}, {'a', 'd'})\n"
      ],
      "metadata": {
        "colab": {
          "base_uri": "https://localhost:8080/"
        },
        "id": "21OrDwuIhMxB",
        "outputId": "99655c8a-4f87-45d7-dfef-14e9a1b5ad0d"
      },
      "execution_count": null,
      "outputs": [
        {
          "output_type": "execute_result",
          "data": {
            "text/plain": [
              "0.25"
            ]
          },
          "metadata": {},
          "execution_count": 24
        }
      ]
    },
    {
      "cell_type": "markdown",
      "source": [
        "![image.png](data:image/png;base64,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)"
      ],
      "metadata": {
        "id": "5TyqgoK_x6bg"
      }
    },
    {
      "cell_type": "code",
      "source": [
        "#correct answer \n",
        "\n",
        "from math import log10\n",
        "\n",
        "def idff(docs):\n",
        "    docs = [set(doc) for doc in docs]\n",
        "    n_tokens = {}\n",
        "    for doc in docs:\n",
        "        for token in doc:\n",
        "            n_tokens[token] = n_tokens.get(token, 0) + 1\n",
        "    ans = {}\n",
        "    for token in n_tokens:\n",
        "        ans[token] = log10(len(docs)/(1+n_tokens[token]))\n",
        "    return ans \n",
        "idff([['interview', 'questions'], ['interview', 'answers']])\n",
        "\n",
        "        "
      ],
      "metadata": {
        "colab": {
          "base_uri": "https://localhost:8080/"
        },
        "id": "WEl1VNb-5Uwu",
        "outputId": "2adae1fb-0d4f-43d3-a8a3-3c513b29398f"
      },
      "execution_count": null,
      "outputs": [
        {
          "output_type": "execute_result",
          "data": {
            "text/plain": [
              "{'questions': 0.0, 'interview': -0.17609125905568127, 'answers': 0.0}"
            ]
          },
          "metadata": {},
          "execution_count": 45
        }
      ]
    },
    {
      "cell_type": "code",
      "source": [
        "#Second correctly way \n",
        "from math import log10\n",
        "def idf2(docs):\n",
        "    n_docs = len(docs)\n",
        "\n",
        "    docs = [set(doc) for doc in docs]\n",
        "    all_tokens = set.union(*docs)\n",
        "\n",
        "    idf_coefficients = {}\n",
        "    for token in all_tokens:\n",
        "        n_docs_w_token=sum(token in doc for doc in docs)   # use of booleans\n",
        "        idf_c = log10(len(docs)/(1+n_docs_w_token))\n",
        "        idf_coefficients[token] = idf_c\n",
        "    return idf_coefficients\n",
        "idf2([['interview', 'questions'], ['interview', 'answers']])"
      ],
      "metadata": {
        "colab": {
          "base_uri": "https://localhost:8080/"
        },
        "id": "FdMQmJO478UX",
        "outputId": "910e2e0c-b06a-4cc0-d9fa-e2923f423133"
      },
      "execution_count": null,
      "outputs": [
        {
          "output_type": "execute_result",
          "data": {
            "text/plain": [
              "{'interview': -0.17609125905568127, 'questions': 0.0, 'answers': 0.0}"
            ]
          },
          "metadata": {},
          "execution_count": 3
        }
      ]
    },
    {
      "cell_type": "code",
      "source": [
        "#practice dict() before going in more deep to the question\n",
        "\n",
        "student = {'name':'John','age':25, 'courses':['Math','CompSci']}\n",
        "\n",
        "print(student.keys())\n",
        "print(student.values())\n",
        "print(student.items())\n",
        "\n",
        "for key in student:\n",
        "   print(key)\n",
        "\n",
        "\n",
        "print(student['name'])\n",
        "\n",
        "for key,values in student.items():\n",
        "    print(key,values)\n",
        "\n",
        "\n",
        "print(student.get('phone','Not Found'))\n",
        "\n",
        "student['phone'] = '555-555'\n",
        "print(student['phone'])\n",
        "\n",
        "\n",
        "student['name']= 'Jane'\n",
        "student['name']\n",
        "\n",
        "del student['age']\n",
        "print(student)\n",
        "\n",
        "student.pop('phone')\n",
        "print(student)"
      ],
      "metadata": {
        "colab": {
          "base_uri": "https://localhost:8080/"
        },
        "id": "Ydfg2FmzWnpE",
        "outputId": "a0d1947d-ef44-4122-e73c-cc9a6cc684af"
      },
      "execution_count": null,
      "outputs": [
        {
          "output_type": "stream",
          "name": "stdout",
          "text": [
            "dict_keys(['name', 'age', 'courses'])\n",
            "dict_values(['John', 25, ['Math', 'CompSci']])\n",
            "dict_items([('name', 'John'), ('age', 25), ('courses', ['Math', 'CompSci'])])\n",
            "name\n",
            "age\n",
            "courses\n",
            "John\n",
            "name John\n",
            "age 25\n",
            "courses ['Math', 'CompSci']\n",
            "Not Found\n",
            "555-555\n",
            "{'name': 'Jane', 'courses': ['Math', 'CompSci'], 'phone': '555-555'}\n",
            "{'name': 'Jane', 'courses': ['Math', 'CompSci']}\n"
          ]
        }
      ]
    },
    {
      "cell_type": "code",
      "source": [
        "count=dict(elem=1)\n",
        "count\n"
      ],
      "metadata": {
        "colab": {
          "base_uri": "https://localhost:8080/"
        },
        "id": "uW5rglEaTMof",
        "outputId": "adc188af-d716-4390-936d-0ddef53464a1"
      },
      "execution_count": null,
      "outputs": [
        {
          "output_type": "execute_result",
          "data": {
            "text/plain": [
              "{'elem': 1}"
            ]
          },
          "metadata": {},
          "execution_count": 8
        }
      ]
    },
    {
      "cell_type": "code",
      "source": [
        "my_set = {'Geeks', 'for', 'geeks'}\n",
        " \n",
        "s = list(my_set)\n",
        "print(s)\n",
        "print(s[1])"
      ],
      "metadata": {
        "colab": {
          "base_uri": "https://localhost:8080/"
        },
        "id": "aSztB_ELcuXN",
        "outputId": "5ae4f0c3-e1a1-4950-c427-2eb58843dfff"
      },
      "execution_count": null,
      "outputs": [
        {
          "output_type": "stream",
          "name": "stdout",
          "text": [
            "Geeks\n"
          ]
        }
      ]
    },
    {
      "cell_type": "code",
      "source": [
        "def idf(documents):\n",
        "    N = len(documents)\n",
        "    tokens = set()\n",
        "    for document in documents:\n",
        "        for token in document:\n",
        "            tokens.add(token)\n",
        "            tokenn= list(tokens)\n",
        "    for elem in tokenn:\n",
        "\n",
        "idf([['interview', 'questions'], ['interview', 'answers']])"
      ],
      "metadata": {
        "colab": {
          "base_uri": "https://localhost:8080/",
          "height": 35
        },
        "id": "buCpvXdFcz6L",
        "outputId": "ae65abb5-663a-47a6-b4ed-38948ea0097c"
      },
      "execution_count": null,
      "outputs": [
        {
          "output_type": "execute_result",
          "data": {
            "text/plain": [
              "'answers'"
            ],
            "application/vnd.google.colaboratory.intrinsic+json": {
              "type": "string"
            }
          },
          "metadata": {},
          "execution_count": 37
        }
      ]
    },
    {
      "cell_type": "code",
      "source": [
        "#attempt\n",
        "def idf(documents):\n",
        "    N = len(documents)\n",
        "    tokens = set()\n",
        "    count ={}\n",
        "    a = 0\n",
        "    for document in documents:\n",
        "        for token in document:\n",
        "            tokens.add(token)\n",
        "            tokenn= list(tokens)\n",
        "          \n",
        "    for elem in tokens:\n",
        "        print(elem[0])\n",
        "        print(elem[1])\n",
        "        for doc in documents:\n",
        "            if elem in doc:\n",
        "               a +=1\n",
        "               count[elem[0]]=a \n",
        "            elif elem[1] in doc:\n",
        "                 b +=1\n",
        "                 count[elem[1]]=b \n",
        "            elif elem[2] in doc:\n",
        "                 c +=1 \n",
        "                 count[elem[2]]=c \n",
        "               \n",
        "               \n",
        "    return count\n",
        "       \n",
        "             \n",
        "        \n",
        "      \n",
        "idf([['interview', 'questions'], ['interview', 'answers']])"
      ],
      "metadata": {
        "colab": {
          "base_uri": "https://localhost:8080/",
          "height": 321
        },
        "id": "bD-tLluEx61J",
        "outputId": "021c805e-7e4d-40e1-f140-9e4ba2c63581"
      },
      "execution_count": null,
      "outputs": [
        {
          "output_type": "error",
          "ename": "IndexError",
          "evalue": "ignored",
          "traceback": [
            "\u001b[0;31m---------------------------------------------------------------------------\u001b[0m",
            "\u001b[0;31mIndexError\u001b[0m                                Traceback (most recent call last)",
            "\u001b[0;32m<ipython-input-32-1868a2f9c7b2>\u001b[0m in \u001b[0;36m<cell line: 31>\u001b[0;34m()\u001b[0m\n\u001b[1;32m     29\u001b[0m \u001b[0;34m\u001b[0m\u001b[0m\n\u001b[1;32m     30\u001b[0m \u001b[0;34m\u001b[0m\u001b[0m\n\u001b[0;32m---> 31\u001b[0;31m \u001b[0midf\u001b[0m\u001b[0;34m(\u001b[0m\u001b[0;34m[\u001b[0m\u001b[0;34m[\u001b[0m\u001b[0;34m'interview'\u001b[0m\u001b[0;34m,\u001b[0m \u001b[0;34m'questions'\u001b[0m\u001b[0;34m]\u001b[0m\u001b[0;34m,\u001b[0m \u001b[0;34m[\u001b[0m\u001b[0;34m'interview'\u001b[0m\u001b[0;34m,\u001b[0m \u001b[0;34m'answers'\u001b[0m\u001b[0;34m]\u001b[0m\u001b[0;34m]\u001b[0m\u001b[0;34m)\u001b[0m\u001b[0;34m\u001b[0m\u001b[0;34m\u001b[0m\u001b[0m\n\u001b[0m",
            "\u001b[0;32m<ipython-input-32-1868a2f9c7b2>\u001b[0m in \u001b[0;36midf\u001b[0;34m(documents)\u001b[0m\n\u001b[1;32m      8\u001b[0m             \u001b[0mtokens\u001b[0m\u001b[0;34m.\u001b[0m\u001b[0madd\u001b[0m\u001b[0;34m(\u001b[0m\u001b[0mtoken\u001b[0m\u001b[0;34m)\u001b[0m\u001b[0;34m\u001b[0m\u001b[0;34m\u001b[0m\u001b[0m\n\u001b[1;32m      9\u001b[0m             \u001b[0mtokenn\u001b[0m\u001b[0;34m=\u001b[0m \u001b[0mlist\u001b[0m\u001b[0;34m(\u001b[0m\u001b[0mtokens\u001b[0m\u001b[0;34m)\u001b[0m\u001b[0;34m\u001b[0m\u001b[0;34m\u001b[0m\u001b[0m\n\u001b[0;32m---> 10\u001b[0;31m             \u001b[0mprint\u001b[0m\u001b[0;34m(\u001b[0m\u001b[0mtokenn\u001b[0m\u001b[0;34m[\u001b[0m\u001b[0;36m2\u001b[0m\u001b[0;34m]\u001b[0m\u001b[0;34m)\u001b[0m\u001b[0;34m\u001b[0m\u001b[0;34m\u001b[0m\u001b[0m\n\u001b[0m\u001b[1;32m     11\u001b[0m     \u001b[0;32mfor\u001b[0m \u001b[0melem\u001b[0m \u001b[0;32min\u001b[0m \u001b[0mtokens\u001b[0m\u001b[0;34m:\u001b[0m\u001b[0;34m\u001b[0m\u001b[0;34m\u001b[0m\u001b[0m\n\u001b[1;32m     12\u001b[0m         \u001b[0mprint\u001b[0m\u001b[0;34m(\u001b[0m\u001b[0melem\u001b[0m\u001b[0;34m[\u001b[0m\u001b[0;36m0\u001b[0m\u001b[0;34m]\u001b[0m\u001b[0;34m)\u001b[0m\u001b[0;34m\u001b[0m\u001b[0;34m\u001b[0m\u001b[0m\n",
            "\u001b[0;31mIndexError\u001b[0m: list index out of range"
          ]
        }
      ]
    },
    {
      "cell_type": "code",
      "source": [
        "#correct answer\n",
        "from math import log10\n",
        "\n",
        "def idf1(docs):\n",
        "    docs = [set(doc) for doc in docs]\n",
        "    n_tokens = {}\n",
        "    for doc in docs:\n",
        "        for token in doc:\n",
        "            n_tokens[token] = n_tokens.get(token, 0) + 1\n",
        "    ans = {}\n",
        "    for token in n_tokens:\n",
        "        ans[token] = log10(len(docs) / (1 + n_tokens[token]))\n",
        "    return ans\n",
        "idf1([['interview', 'questions'], ['interview', 'answers']])"
      ],
      "metadata": {
        "id": "eTri3YyM2-HQ",
        "colab": {
          "base_uri": "https://localhost:8080/"
        },
        "outputId": "5af6b344-56b3-4bd8-dac3-d9833d05a843"
      },
      "execution_count": null,
      "outputs": [
        {
          "output_type": "execute_result",
          "data": {
            "text/plain": [
              "{'questions': 0.0, 'interview': -0.17609125905568127, 'answers': 0.0}"
            ]
          },
          "metadata": {},
          "execution_count": 40
        }
      ]
    },
    {
      "cell_type": "markdown",
      "source": [
        "![image.png](data:image/png;base64,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)"
      ],
      "metadata": {
        "id": "TMwaDKu2X5Tb"
      }
    },
    {
      "cell_type": "code",
      "source": [
        "#perfect solution\n",
        "def counting_identifiers(lst):\n",
        "    sites = []\n",
        "    ans = {}\n",
        "    for id in lst:\n",
        "        site = id.split('-')[1]\n",
        "        ans[site] = ans.get(site, 0) + 1\n",
        "    return ans\n"
      ],
      "metadata": {
        "id": "OFQjq9XsY5j0"
      },
      "execution_count": null,
      "outputs": []
    },
    {
      "cell_type": "code",
      "source": [
        "counting_identifiers(['xdfgfgheda-ID','ERHTYUHJ-IN', 'G6899DGFFBVCA7-IN', 'lfjdks2345nvf-PL','LKD424B-PL','ERWDVCJ3R53T-PL','45469Dcdjcn-UA'])"
      ],
      "metadata": {
        "colab": {
          "base_uri": "https://localhost:8080/"
        },
        "id": "MP7JZ5X7ZUaA",
        "outputId": "ec9ef7e6-0303-4efd-e202-d82942c8f2d3"
      },
      "execution_count": 31,
      "outputs": [
        {
          "output_type": "execute_result",
          "data": {
            "text/plain": [
              "{'ID': 1, 'IN': 2, 'PL': 3, 'UA': 1}"
            ]
          },
          "metadata": {},
          "execution_count": 31
        }
      ]
    },
    {
      "cell_type": "code",
      "source": [
        "#a little longer solution\n",
        "def counting_identifiers(lst):\n",
        "    sites = []\n",
        "    for id in lst:\n",
        "        site = id.split('-')[1]\n",
        "        sites.append(site)\n",
        "    ans = {}\n",
        "    for site in sites:\n",
        "        ans[site] = ans.get(site, 0) + 1\n",
        "    return ans\n"
      ],
      "metadata": {
        "id": "TshsKyMSZfi6"
      },
      "execution_count": null,
      "outputs": []
    },
    {
      "cell_type": "code",
      "source": [
        "#wrong way\n",
        "def counting_identifiers(lst):\n",
        "    sites = []\n",
        "    sites_set = set()\n",
        "    for id in lst:\n",
        "        site = (id.split('-'))[1]\n",
        "        sites.append(site)\n",
        "        sites_set.add(site)\n",
        "    ans = {} \n",
        "    if ((elem) for elem in sites_set) == ((ele) for ele in sites):\n",
        "       ans[elem]= ans.get(elem,0) + 1 \n",
        "            \n",
        "    return sites, sites_set, ans\n"
      ],
      "metadata": {
        "id": "HQhRaqQu6boQ"
      },
      "execution_count": 23,
      "outputs": []
    },
    {
      "cell_type": "code",
      "source": [
        "#wrong way\n",
        "def counting_identifiers(lst):\n",
        "    sites = []\n",
        "    sites_set = set()\n",
        "    for id in lst:\n",
        "        site = (id.split('-'))[1]\n",
        "        sites.append(site)\n",
        "        sites_set.add(site)\n",
        "    ans = {} \n",
        "    for elem in sites_set:\n",
        "        if elem in sites:\n",
        "            ans[elem]= ans.get(elem,0) + 1 \n",
        "    return ans\n"
      ],
      "metadata": {
        "id": "fVq0fIU1EH3k"
      },
      "execution_count": 25,
      "outputs": []
    }
  ]
}